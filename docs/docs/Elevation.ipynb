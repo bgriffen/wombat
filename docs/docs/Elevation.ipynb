{
 "cells": [
  {
   "cell_type": "markdown",
   "id": "00e09c95",
   "metadata": {},
   "source": [
    "![Australia elevation logo](/img/elevation/australia-elevation.jpg)\n",
    "\n",
    "Please check out [this summary of the basic concepts](https://www.neonscience.org/resources/learning-hub/tutorials/chm-dsm-dtm-gridded-lidar-data) for Digital Elevation Models (DEM) from Neon. First however is the distinction between DTMs and DSMs. Their figure highlights the main points.\n",
    "\n",
    "![Australia elevation logo](/img/elevation/dsm.png)\n",
    "\n",
    "Additionally, there are a great many DEM datasets available globally, particularly for the US and Europe. These options are nicely highlighted [at this repository](https://github.com/DahnJ/Awesome-DEM)."
   ]
  },
  {
   "cell_type": "markdown",
   "id": "43db3c5b",
   "metadata": {},
   "source": [
    "## Goals\n",
    "\n",
    "What we ideally need is a single tiff tile that provides decent elevation estimates for a given latitude and longitude across all of Australia. \n",
    "\n",
    "![Australia elevation grid](/img/elevation/gridding.gif)\n",
    "\n",
    "We can then simply point to this (large) tiff, and apply an elevation model in Python.\n",
    "\n",
    "```python\n",
    "from osgeo import gdal\n",
    "\n",
    "class ElevationModel:\n",
    "    def __init__(self, filename, geojson_file):\n",
    "        self.ds = gdal.Open(filename)\n",
    "\n",
    "    def get_elevation(self, lon, lat):\n",
    "        gt = self.ds.GetGeoTransform()\n",
    "        x = int((lon - gt[0]) / gt[1])\n",
    "        y = int((lat - gt[3]) / gt[5])\n",
    "\n",
    "        return self.ds.ReadAsArray(x, y, 1, 1)[0][0]\n",
    "```\n",
    "\n",
    "Which we can then call, via something like:\n",
    "\n",
    "```python\n",
    "model = ElevationModel('elevation.tif')\n",
    "\n",
    "# Let's try Sydney (151.209900, -33.865143)\n",
    "lon,lat = (151.209900, -33.865143)\n",
    "\n",
    "# Calculate elevation\n",
    "elevation = model.get_elevation(lon, lat)\n",
    "\n",
    "print(f\"Elevation at {lon}, {lat} is {elevation}\")\n",
    "> 6.23\n",
    "```\n",
    "\n",
    "This can then be used and extended to calculate viewsheds, walkability metrics and provide to our property pricing models to name a few."
   ]
  },
  {
   "cell_type": "markdown",
   "id": "7be5d43b",
   "metadata": {},
   "source": [
    "## Sources \n",
    "### ELVIS\n",
    "\n",
    "One primary source for Australia is the [ELVIS](https://elevation.fsdf.org.au/) data.\n",
    "\n",
    "\n",
    "![ELVIS](/img/elevation/elvis.jpg)\n",
    "\n",
    "This data consists of the following: \n",
    "\n",
    "* Combined state and national datasets\n",
    "* Generally lidar-derived data\n",
    "* Resolutions include: 1m, 2m, 5m, 1 second\n",
    "* Complete coverage for NSW, Victoria and Tasminia with partial coverage in other state/territories\n",
    "* Bathymetry also provided for surrounding waters\n",
    "\n",
    "One can access the [LiDAR 5 Metre Grid models](https://ecat.ga.gov.au/geonetwork/srv/eng/catalog.search#/metadata/89644) from GeoScience Australia, though the piecemeal nature of it makes creating a generalised elevation map for each city is challenging. It entails downloading every bounding box region of interest for each city then more backend handling to get what is needed for wombat.\n",
    "\n",
    "The only government dataset that seems to provides a manageable dataset (fully integrated tile) and achieves out goal is the following:\n",
    "\n",
    "* [1 second SRTM Level 2 Derived Digital Elevation Model v1.0](https://ecat.ga.gov.au/geonetwork/srv/eng/catalog.search#/metadata/69816)\n",
    "\n",
    "Which has since been updated (2010) to address several issues in the original dataset.\n",
    "\n",
    "* [1 second SRTM Level 2 Derived Smoothed Digital Elevation Model (DEM-S) version 1.0 (41GB)](https://researchdata.edu.au/1-second-srtm-version-10/1439881)\n",
    "\n",
    "> *The 1 second Shuttle Radar Topographic Mission (SRTM) derived smoothed Digital Elevation Model (DEM-S) Version 1.0 is a 1 arc second (~30m) gridded smoothed version of the DEM (ANZCW0703013355). The DEM-S represents ground surface topography, excluding vegetation features, and has been smoothed to reduce noise and improve the representation of surface shape. The dataset was derived from the 1 second Digital Elevation Model Version 1.0 (DSM; ANZCW0703013336) by an adaptive smoothing process that applies more smoothing in flatter areas than hilly areas, and more smoothing in noisier areas than in less noisy areas. This DEM-S supports calculation of local terrain shape attributes such as slope, aspect and curvatures that could not be reliably derived from the unsmoothed DEM because of noise. A full description of the methods is in progress (Gallant et al., in prep) and in the User Guide (Geoscience Australia & CSIRO, 2010).* ~Gallant, J. ; Tickle, P.K. ; Wilson, N. ; Dowling, T. ; Read, A. (2010)\n",
    "\n",
    "Upon downloading this 40GB file, we can check the extent to verify it's coverage:\n",
    "\n",
    "```python\n",
    "import matplotlib.pyplot as plt\n",
    "import geopandas as gpd\n",
    "import rasterio\n",
    "from shapely.geometry import shape, box\n",
    "\n",
    "import wombat\n",
    "\n",
    "w = wombat.Wombat()\n",
    "\n",
    "# Path to elevation tif file\n",
    "tif_file = w.Datasets.elevation_tif_filename\n",
    "\n",
    "# State and territory boundaries\n",
    "w.Boundary.load_states_territories()\n",
    "gdf = w.Boundary.gdf_states_territories\n",
    "\n",
    "fig,ax = plt.subplots(constrained_layout=True)\n",
    "gdf.plot(color='white', edgecolor='black',ax=ax)\n",
    "\n",
    "# Load the TIFF file\n",
    "src = rasterio.open(tif_file)\n",
    "\n",
    "# Retrieve the TIFF file's polygon coordinates\n",
    "left,bottom,right,top = src.bounds\n",
    "\n",
    "# Create a new GeoDataFrame for the TIFF\n",
    "tiff_gdf = gpd.GeoDataFrame({'geometry': [box(left,bottom,right,top)]}, \n",
    "                            crs=src.crs.to_string())\n",
    "tiff_gdf = tiff_gdf.to_crs(gdf.crs)\n",
    "\n",
    "# Plot tiff coverage area over the top of the country boundary\n",
    "tiff_gdf.plot(ax=ax, facecolor='none', edgecolor='red',linewidth=2)\n",
    "\n",
    "# Title for the plot\n",
    "plt.title(\"Elevation Data Coverage\")\n",
    "\n",
    "# Show the plot\n",
    "plt.show()\n",
    "```\n",
    "\n",
    "There are however other options which have be explored.\n",
    "\n",
    "### TessaDM\n",
    "[TessaDM](https://tessadem.com/) provides an API to access elevation data globally. \n",
    "\n",
    "\n",
    "  ![TessaDM](/img/elevation/TessaDM.jpg)\n",
    "\n",
    "The downside is that it is per request and there is no free cap available. From their page *\"Elevation data were merged and adjusted from multiple sources according to tree height, urbanization and water presence using AW3D30, MERIT DEM, Forest Height, World Settlement Footprint and Global Surface Water\"*. You can download the raw binary files (405GB) though this may take some time. Their team promptly responded to a request for a compressed version (40GB). This was subsequently downloaded over a few days and then the Australian region was extracted.\n",
    "\n",
    "### FABDEM \n",
    "Lastly, there are some more advanced models coming online such as [FABDEM](https://research-information.bris.ac.uk/en/datasets/fabdem-v1-2) by the University of Bristol. FABDEM (Forest And Buildings removed Copernicus DEM) is a global elevation map that removes building and tree height biases from the [Copernicus GLO 30 Digital Elevation Model](https://spacedata.copernicus.eu/collections/copernicus-digital-elevation-model) (DEM). The data is available at 1 arc second grid spacing (approximately 30m at the equator) for the globe.\n",
    "\n",
    "You can download the entire dataset for the Earth [here](https://data.bris.ac.uk/data/dataset/s5hqmjcdj8yo2ibzi9b4ew3sn). For our purposes we only need the tiles for our interested areas. Fortunately in the v1.2 release, the tileset has been provided so those specific tiles for the capitals can be acquired. The tileset for Australis looks as follows:\n",
    "\n",
    "![FABDEM](/img/elevation/FABDEM_tiles.jpg)\n",
    "\n",
    "The individual tiles that overlap with the major capital cities are as follows:\n",
    "\n",
    "| tile_name | file_name | zipfile_name |\n",
    "| --- | --- | --- |\n",
    "| S013E130 | S013E130_FABDEM_V1-2.tif | S20E130-S-10E140_FABDEM_V1-2.zip |\n",
    "| S028E152 | S028E152_FABDEM_V1-2.tif | S30E150-S-20E160_FABDEM_V1-2.zip |\n",
    "| S028E153 | S028E153_FABDEM_V1-2.tif | S30E150-S-20E160_FABDEM_V1-2.zip |\n",
    "| S032E115 | S032E115_FABDEM_V1-2.tif | S40E110-S-30E120_FABDEM_V1-2.zip |\n",
    "| S033E115 | S033E115_FABDEM_V1-2.tif | S40E110-S-30E120_FABDEM_V1-2.zip |\n",
    "| S034E150 | S034E150_FABDEM_V1-2.tif | S40E150-S-30E160_FABDEM_V1-2.zip |\n",
    "| S034E151 | S034E151_FABDEM_V1-2.tif | S40E150-S-30E160_FABDEM_V1-2.zip |\n",
    "| S035E138 | S035E138_FABDEM_V1-2.tif | S40E130-S-30E140_FABDEM_V1-2.zip |\n",
    "| S036E149 | S036E149_FABDEM_V1-2.tif | S40E140-S-30E150_FABDEM_V1-2.zip |\n",
    "| S038E144 | S038E144_FABDEM_V1-2.tif | S40E140-S-30E150_FABDEM_V1-2.zip |\n",
    "| S038E145 | S038E145_FABDEM_V1-2.tif | S40E140-S-30E150_FABDEM_V1-2.zip |\n",
    "| S043E147 | S043E147_FABDEM_V1-2.tif | S50E140-S-40E150_FABDEM_V1-2.zip |\n",
    "\n",
    "We can then simply loop through these files and download them locally."
   ]
  },
  {
   "cell_type": "markdown",
   "id": "cc58340b",
   "metadata": {},
   "source": [
    "## Accessing Australia Wide Elevation Data Instantly"
   ]
  },
  {
   "cell_type": "code",
   "execution_count": 15,
   "id": "1c70ddf5",
   "metadata": {},
   "outputs": [
    {
     "name": "stdout",
     "output_type": "stream",
     "text": [
      "The autoreload extension is already loaded. To reload it, use:\n",
      "  %reload_ext autoreload\n"
     ]
    }
   ],
   "source": [
    "%load_ext autoreload\n",
    "%autoreload 2\n",
    "import wombat\n",
    "w = wombat.Wombat()"
   ]
  },
  {
   "cell_type": "code",
   "execution_count": 39,
   "id": "58d1e907",
   "metadata": {},
   "outputs": [],
   "source": [
    "# set city as Brisbane\n",
    "w.set_area_as_city(\"Brisbane\")"
   ]
  },
  {
   "cell_type": "code",
   "execution_count": 38,
   "id": "1bcb10c7",
   "metadata": {},
   "outputs": [
    {
     "name": "stdout",
     "output_type": "stream",
     "text": [
      "CPU times: total: 0 ns\n",
      "Wall time: 0 ns\n"
     ]
    }
   ],
   "source": [
    "# provide list of lon lats\n",
    "%time\n",
    "w.Elevation.get_elevation([w.City.lon],[w.City.lat])"
   ]
  },
  {
   "cell_type": "code",
   "execution_count": 25,
   "id": "d96bec0a",
   "metadata": {},
   "outputs": [
    {
     "data": {
      "text/plain": [
       "array([26.899399], dtype=float32)"
      ]
     },
     "execution_count": 25,
     "metadata": {},
     "output_type": "execute_result"
    }
   ],
   "source": [
    "w.Elevation.elevations"
   ]
  },
  {
   "cell_type": "markdown",
   "id": "2591133d",
   "metadata": {},
   "source": [
    "We can make a bounding box of a certain number of kms on a particular lat-lon anywhere in Australia."
   ]
  },
  {
   "cell_type": "code",
   "execution_count": 37,
   "id": "9d9ce480",
   "metadata": {},
   "outputs": [
    {
     "name": "stdout",
     "output_type": "stream",
     "text": [
      "CPU times: total: 0 ns\n",
      "Wall time: 0 ns\n"
     ]
    },
    {
     "data": {
      "text/plain": [
       "array([[57.201305 , 55.885677 , 53.56804  , ...,  8.021298 ,  7.9257255,\n",
       "         7.6609416],\n",
       "       [57.957844 , 56.509136 , 54.332447 , ...,  9.073426 ,  8.71077  ,\n",
       "         8.432874 ],\n",
       "       [57.064995 , 55.592075 , 53.508747 , ...,  9.52512  ,  9.224455 ,\n",
       "         8.781282 ],\n",
       "       ...,\n",
       "       [20.79442  , 22.44483  , 24.339043 , ..., 11.34291  ,  8.735647 ,\n",
       "         7.1466336],\n",
       "       [21.849005 , 23.476112 , 25.452738 , ..., 11.523903 ,  8.546301 ,\n",
       "         6.89528  ],\n",
       "       [22.569393 , 24.335085 , 26.599682 , ..., 11.600134 ,  8.865172 ,\n",
       "         7.1359997]], dtype=float32)"
      ]
     },
     "execution_count": 37,
     "metadata": {},
     "output_type": "execute_result"
    }
   ],
   "source": [
    "# take a look at a 3km box around the CBD of Brisbane\n",
    "%time\n",
    "w.Elevation.make_section(w.City.lon,w.City.lat,3)\n",
    "w.Elevation.elevation_data"
   ]
  },
  {
   "cell_type": "code",
   "execution_count": 35,
   "id": "5e32fa69",
   "metadata": {},
   "outputs": [
    {
     "data": {
      "image/png": "[encoded data removed]",
      "text/plain": [
       "<Figure size 640x480 with 2 Axes>"
      ]
     },
     "metadata": {},
     "output_type": "display_data"
    }
   ],
   "source": [
    "w.Elevation.plot_elevation()"
   ]
  },
  {
   "cell_type": "markdown",
   "id": "ed076af5",
   "metadata": {},
   "source": [
    "As you can see from the `%time` runtime outputs, each query is close to instant making owing to how `wombat` access the 80GB ELVIS TIF of Australia (using GDAL)."
   ]
  },
  {
   "cell_type": "markdown",
   "id": "62201d5f",
   "metadata": {},
   "source": [
    "# Viewsheds\n",
    "\n",
    "Coming soon..."
   ]
  }
 ],
 "metadata": {
  "kernelspec": {
   "display_name": "Python 3 (ipykernel)",
   "language": "python",
   "name": "python3"
  },
  "language_info": {
   "codemirror_mode": {
    "name": "ipython",
    "version": 3
   },
   "file_extension": ".py",
   "mimetype": "text/x-python",
   "name": "python",
   "nbconvert_exporter": "python",
   "pygments_lexer": "ipython3",
   "version": "3.9.17"
  }
 },
 "nbformat": 4,
 "nbformat_minor": 5
}
